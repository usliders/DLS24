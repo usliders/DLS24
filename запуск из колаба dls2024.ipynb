{
  "nbformat": 4,
  "nbformat_minor": 0,
  "metadata": {
    "colab": {
      "provenance": [],
      "gpuType": "T4"
    },
    "kernelspec": {
      "name": "python3",
      "display_name": "Python 3"
    },
    "language_info": {
      "name": "python"
    },
    "accelerator": "GPU"
  },
  "cells": [
    {
      "cell_type": "code",
      "execution_count": null,
      "metadata": {
        "id": "3RUA4wzL5CxR"
      },
      "outputs": [],
      "source": [
        "!git clone https://github.com/usliders/DLS24.git"
      ]
    },
    {
      "cell_type": "code",
      "source": [
        "%cd /content/DLS24\n",
        "!pip install aiogram==2.16 gradio_client==0.8.0 tensorboard==2.15.1 tensorflow==2.15.0\n",
        "!pip install gradio_client\n",
        "import urllib.parse"
      ],
      "metadata": {
        "id": "peQLtqWmGti2"
      },
      "execution_count": null,
      "outputs": []
    },
    {
      "cell_type": "code",
      "source": [
        "!python main.py\n"
      ],
      "metadata": {
        "id": "K6KxZbTW5QGY"
      },
      "execution_count": null,
      "outputs": []
    }
  ]
}