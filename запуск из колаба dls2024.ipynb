{
  "nbformat": 4,
  "nbformat_minor": 0,
  "metadata": {
    "colab": {
      "provenance": [],
      "gpuType": "T4"
    },
    "kernelspec": {
      "name": "python3",
      "display_name": "Python 3"
    },
    "language_info": {
      "name": "python"
    },
    "accelerator": "GPU"
  },
  "cells": [
    {
      "cell_type": "code",
      "execution_count": 1,
      "metadata": {
        "colab": {
          "base_uri": "https://localhost:8080/"
        },
        "id": "3RUA4wzL5CxR",
        "outputId": "4216ffaa-6463-441c-d3f1-0262a0160d09"
      },
      "outputs": [
        {
          "output_type": "stream",
          "name": "stdout",
          "text": [
            "Cloning into 'DLS24'...\n",
            "remote: Enumerating objects: 84, done.\u001b[K\n",
            "remote: Counting objects: 100% (42/42), done.\u001b[K\n",
            "remote: Compressing objects: 100% (34/34), done.\u001b[K\n",
            "remote: Total 84 (delta 21), reused 17 (delta 7), pack-reused 42 (from 2)\u001b[K\n",
            "Receiving objects: 100% (84/84), 94.17 MiB | 35.32 MiB/s, done.\n",
            "Resolving deltas: 100% (22/22), done.\n"
          ]
        }
      ],
      "source": [
        "!git clone https://github.com/usliders/DLS24.git"
      ]
    },
    {
      "cell_type": "code",
      "source": [
        "%cd /content/DLS24\n",
        "!pip install aiogram==2.16 gradio_client==0.8.0 tensorboard==2.15.1 tensorflow==2.15.0\n",
        "!pip install gradio_client\n",
        "import urllib.parse"
      ],
      "metadata": {
        "id": "peQLtqWmGti2",
        "colab": {
          "base_uri": "https://localhost:8080/"
        },
        "outputId": "d5cfa334-5621-4bf8-e8ac-b7c5c8d538eb"
      },
      "execution_count": 2,
      "outputs": [
        {
          "output_type": "stream",
          "name": "stdout",
          "text": [
            "/content/DLS24\n",
            "Requirement already satisfied: aiogram==2.16 in /usr/local/lib/python3.11/dist-packages (2.16)\n",
            "Requirement already satisfied: gradio_client==0.8.0 in /usr/local/lib/python3.11/dist-packages (0.8.0)\n",
            "Requirement already satisfied: tensorboard==2.15.1 in /usr/local/lib/python3.11/dist-packages (2.15.1)\n",
            "Requirement already satisfied: tensorflow==2.15.0 in /usr/local/lib/python3.11/dist-packages (2.15.0)\n",
            "Requirement already satisfied: aiohttp<3.9.0,>=3.8.0 in /usr/local/lib/python3.11/dist-packages (from aiogram==2.16) (3.8.6)\n",
            "Requirement already satisfied: Babel<2.10.0,>=2.9.1 in /usr/local/lib/python3.11/dist-packages (from aiogram==2.16) (2.9.1)\n",
            "Requirement already satisfied: certifi>=2021.10.8 in /usr/local/lib/python3.11/dist-packages (from aiogram==2.16) (2024.12.14)\n",
            "Requirement already satisfied: fsspec in /usr/local/lib/python3.11/dist-packages (from gradio_client==0.8.0) (2024.10.0)\n",
            "Requirement already satisfied: httpx in /usr/local/lib/python3.11/dist-packages (from gradio_client==0.8.0) (0.28.1)\n",
            "Requirement already satisfied: huggingface-hub>=0.19.3 in /usr/local/lib/python3.11/dist-packages (from gradio_client==0.8.0) (0.27.1)\n",
            "Requirement already satisfied: packaging in /usr/local/lib/python3.11/dist-packages (from gradio_client==0.8.0) (24.2)\n",
            "Requirement already satisfied: typing-extensions~=4.0 in /usr/local/lib/python3.11/dist-packages (from gradio_client==0.8.0) (4.12.2)\n",
            "Requirement already satisfied: websockets<12.0,>=10.0 in /usr/local/lib/python3.11/dist-packages (from gradio_client==0.8.0) (11.0.3)\n",
            "Requirement already satisfied: absl-py>=0.4 in /usr/local/lib/python3.11/dist-packages (from tensorboard==2.15.1) (1.4.0)\n",
            "Requirement already satisfied: grpcio>=1.48.2 in /usr/local/lib/python3.11/dist-packages (from tensorboard==2.15.1) (1.69.0)\n",
            "Requirement already satisfied: google-auth<3,>=1.6.3 in /usr/local/lib/python3.11/dist-packages (from tensorboard==2.15.1) (2.27.0)\n",
            "Requirement already satisfied: google-auth-oauthlib<2,>=0.5 in /usr/local/lib/python3.11/dist-packages (from tensorboard==2.15.1) (1.2.1)\n",
            "Requirement already satisfied: markdown>=2.6.8 in /usr/local/lib/python3.11/dist-packages (from tensorboard==2.15.1) (3.7)\n",
            "Requirement already satisfied: numpy>=1.12.0 in /usr/local/lib/python3.11/dist-packages (from tensorboard==2.15.1) (1.26.4)\n",
            "Requirement already satisfied: protobuf<4.24,>=3.19.6 in /usr/local/lib/python3.11/dist-packages (from tensorboard==2.15.1) (4.23.4)\n",
            "Requirement already satisfied: requests<3,>=2.21.0 in /usr/local/lib/python3.11/dist-packages (from tensorboard==2.15.1) (2.32.3)\n",
            "Requirement already satisfied: setuptools>=41.0.0 in /usr/local/lib/python3.11/dist-packages (from tensorboard==2.15.1) (75.1.0)\n",
            "Requirement already satisfied: six>1.9 in /usr/local/lib/python3.11/dist-packages (from tensorboard==2.15.1) (1.17.0)\n",
            "Requirement already satisfied: tensorboard-data-server<0.8.0,>=0.7.0 in /usr/local/lib/python3.11/dist-packages (from tensorboard==2.15.1) (0.7.2)\n",
            "Requirement already satisfied: werkzeug>=1.0.1 in /usr/local/lib/python3.11/dist-packages (from tensorboard==2.15.1) (3.1.3)\n",
            "Requirement already satisfied: astunparse>=1.6.0 in /usr/local/lib/python3.11/dist-packages (from tensorflow==2.15.0) (1.6.3)\n",
            "Requirement already satisfied: flatbuffers>=23.5.26 in /usr/local/lib/python3.11/dist-packages (from tensorflow==2.15.0) (25.1.21)\n",
            "Requirement already satisfied: gast!=0.5.0,!=0.5.1,!=0.5.2,>=0.2.1 in /usr/local/lib/python3.11/dist-packages (from tensorflow==2.15.0) (0.6.0)\n",
            "Requirement already satisfied: google-pasta>=0.1.1 in /usr/local/lib/python3.11/dist-packages (from tensorflow==2.15.0) (0.2.0)\n",
            "Requirement already satisfied: h5py>=2.9.0 in /usr/local/lib/python3.11/dist-packages (from tensorflow==2.15.0) (3.12.1)\n",
            "Requirement already satisfied: libclang>=13.0.0 in /usr/local/lib/python3.11/dist-packages (from tensorflow==2.15.0) (18.1.1)\n",
            "Requirement already satisfied: ml-dtypes~=0.2.0 in /usr/local/lib/python3.11/dist-packages (from tensorflow==2.15.0) (0.2.0)\n",
            "Requirement already satisfied: opt-einsum>=2.3.2 in /usr/local/lib/python3.11/dist-packages (from tensorflow==2.15.0) (3.4.0)\n",
            "Requirement already satisfied: termcolor>=1.1.0 in /usr/local/lib/python3.11/dist-packages (from tensorflow==2.15.0) (2.5.0)\n",
            "Requirement already satisfied: wrapt<1.15,>=1.11.0 in /usr/local/lib/python3.11/dist-packages (from tensorflow==2.15.0) (1.14.1)\n",
            "Requirement already satisfied: tensorflow-io-gcs-filesystem>=0.23.1 in /usr/local/lib/python3.11/dist-packages (from tensorflow==2.15.0) (0.37.1)\n",
            "Requirement already satisfied: tensorflow-estimator<2.16,>=2.15.0 in /usr/local/lib/python3.11/dist-packages (from tensorflow==2.15.0) (2.15.0)\n",
            "Requirement already satisfied: keras<2.16,>=2.15.0 in /usr/local/lib/python3.11/dist-packages (from tensorflow==2.15.0) (2.15.0)\n",
            "Requirement already satisfied: attrs>=17.3.0 in /usr/local/lib/python3.11/dist-packages (from aiohttp<3.9.0,>=3.8.0->aiogram==2.16) (24.3.0)\n",
            "Requirement already satisfied: charset-normalizer<4.0,>=2.0 in /usr/local/lib/python3.11/dist-packages (from aiohttp<3.9.0,>=3.8.0->aiogram==2.16) (3.4.1)\n",
            "Requirement already satisfied: multidict<7.0,>=4.5 in /usr/local/lib/python3.11/dist-packages (from aiohttp<3.9.0,>=3.8.0->aiogram==2.16) (6.1.0)\n",
            "Requirement already satisfied: async-timeout<5.0,>=4.0.0a3 in /usr/local/lib/python3.11/dist-packages (from aiohttp<3.9.0,>=3.8.0->aiogram==2.16) (4.0.3)\n",
            "Requirement already satisfied: yarl<2.0,>=1.0 in /usr/local/lib/python3.11/dist-packages (from aiohttp<3.9.0,>=3.8.0->aiogram==2.16) (1.18.3)\n",
            "Requirement already satisfied: frozenlist>=1.1.1 in /usr/local/lib/python3.11/dist-packages (from aiohttp<3.9.0,>=3.8.0->aiogram==2.16) (1.5.0)\n",
            "Requirement already satisfied: aiosignal>=1.1.2 in /usr/local/lib/python3.11/dist-packages (from aiohttp<3.9.0,>=3.8.0->aiogram==2.16) (1.3.2)\n",
            "Requirement already satisfied: wheel<1.0,>=0.23.0 in /usr/local/lib/python3.11/dist-packages (from astunparse>=1.6.0->tensorflow==2.15.0) (0.45.1)\n",
            "Requirement already satisfied: pytz>=2015.7 in /usr/local/lib/python3.11/dist-packages (from Babel<2.10.0,>=2.9.1->aiogram==2.16) (2024.2)\n",
            "Requirement already satisfied: cachetools<6.0,>=2.0.0 in /usr/local/lib/python3.11/dist-packages (from google-auth<3,>=1.6.3->tensorboard==2.15.1) (5.5.1)\n",
            "Requirement already satisfied: pyasn1-modules>=0.2.1 in /usr/local/lib/python3.11/dist-packages (from google-auth<3,>=1.6.3->tensorboard==2.15.1) (0.4.1)\n",
            "Requirement already satisfied: rsa<5,>=3.1.4 in /usr/local/lib/python3.11/dist-packages (from google-auth<3,>=1.6.3->tensorboard==2.15.1) (4.9)\n",
            "Requirement already satisfied: requests-oauthlib>=0.7.0 in /usr/local/lib/python3.11/dist-packages (from google-auth-oauthlib<2,>=0.5->tensorboard==2.15.1) (1.3.1)\n",
            "Requirement already satisfied: filelock in /usr/local/lib/python3.11/dist-packages (from huggingface-hub>=0.19.3->gradio_client==0.8.0) (3.17.0)\n",
            "Requirement already satisfied: pyyaml>=5.1 in /usr/local/lib/python3.11/dist-packages (from huggingface-hub>=0.19.3->gradio_client==0.8.0) (6.0.2)\n",
            "Requirement already satisfied: tqdm>=4.42.1 in /usr/local/lib/python3.11/dist-packages (from huggingface-hub>=0.19.3->gradio_client==0.8.0) (4.67.1)\n",
            "Requirement already satisfied: idna<4,>=2.5 in /usr/local/lib/python3.11/dist-packages (from requests<3,>=2.21.0->tensorboard==2.15.1) (3.10)\n",
            "Requirement already satisfied: urllib3<3,>=1.21.1 in /usr/local/lib/python3.11/dist-packages (from requests<3,>=2.21.0->tensorboard==2.15.1) (2.3.0)\n",
            "Requirement already satisfied: MarkupSafe>=2.1.1 in /usr/local/lib/python3.11/dist-packages (from werkzeug>=1.0.1->tensorboard==2.15.1) (3.0.2)\n",
            "Requirement already satisfied: anyio in /usr/local/lib/python3.11/dist-packages (from httpx->gradio_client==0.8.0) (3.7.1)\n",
            "Requirement already satisfied: httpcore==1.* in /usr/local/lib/python3.11/dist-packages (from httpx->gradio_client==0.8.0) (1.0.7)\n",
            "Requirement already satisfied: h11<0.15,>=0.13 in /usr/local/lib/python3.11/dist-packages (from httpcore==1.*->httpx->gradio_client==0.8.0) (0.14.0)\n",
            "Requirement already satisfied: pyasn1<0.7.0,>=0.4.6 in /usr/local/lib/python3.11/dist-packages (from pyasn1-modules>=0.2.1->google-auth<3,>=1.6.3->tensorboard==2.15.1) (0.6.1)\n",
            "Requirement already satisfied: oauthlib>=3.0.0 in /usr/local/lib/python3.11/dist-packages (from requests-oauthlib>=0.7.0->google-auth-oauthlib<2,>=0.5->tensorboard==2.15.1) (3.2.2)\n",
            "Requirement already satisfied: propcache>=0.2.0 in /usr/local/lib/python3.11/dist-packages (from yarl<2.0,>=1.0->aiohttp<3.9.0,>=3.8.0->aiogram==2.16) (0.2.1)\n",
            "Requirement already satisfied: sniffio>=1.1 in /usr/local/lib/python3.11/dist-packages (from anyio->httpx->gradio_client==0.8.0) (1.3.1)\n",
            "Requirement already satisfied: gradio_client in /usr/local/lib/python3.11/dist-packages (0.8.0)\n",
            "Requirement already satisfied: fsspec in /usr/local/lib/python3.11/dist-packages (from gradio_client) (2024.10.0)\n",
            "Requirement already satisfied: httpx in /usr/local/lib/python3.11/dist-packages (from gradio_client) (0.28.1)\n",
            "Requirement already satisfied: huggingface-hub>=0.19.3 in /usr/local/lib/python3.11/dist-packages (from gradio_client) (0.27.1)\n",
            "Requirement already satisfied: packaging in /usr/local/lib/python3.11/dist-packages (from gradio_client) (24.2)\n",
            "Requirement already satisfied: typing-extensions~=4.0 in /usr/local/lib/python3.11/dist-packages (from gradio_client) (4.12.2)\n",
            "Requirement already satisfied: websockets<12.0,>=10.0 in /usr/local/lib/python3.11/dist-packages (from gradio_client) (11.0.3)\n",
            "Requirement already satisfied: filelock in /usr/local/lib/python3.11/dist-packages (from huggingface-hub>=0.19.3->gradio_client) (3.17.0)\n",
            "Requirement already satisfied: pyyaml>=5.1 in /usr/local/lib/python3.11/dist-packages (from huggingface-hub>=0.19.3->gradio_client) (6.0.2)\n",
            "Requirement already satisfied: requests in /usr/local/lib/python3.11/dist-packages (from huggingface-hub>=0.19.3->gradio_client) (2.32.3)\n",
            "Requirement already satisfied: tqdm>=4.42.1 in /usr/local/lib/python3.11/dist-packages (from huggingface-hub>=0.19.3->gradio_client) (4.67.1)\n",
            "Requirement already satisfied: anyio in /usr/local/lib/python3.11/dist-packages (from httpx->gradio_client) (3.7.1)\n",
            "Requirement already satisfied: certifi in /usr/local/lib/python3.11/dist-packages (from httpx->gradio_client) (2024.12.14)\n",
            "Requirement already satisfied: httpcore==1.* in /usr/local/lib/python3.11/dist-packages (from httpx->gradio_client) (1.0.7)\n",
            "Requirement already satisfied: idna in /usr/local/lib/python3.11/dist-packages (from httpx->gradio_client) (3.10)\n",
            "Requirement already satisfied: h11<0.15,>=0.13 in /usr/local/lib/python3.11/dist-packages (from httpcore==1.*->httpx->gradio_client) (0.14.0)\n",
            "Requirement already satisfied: sniffio>=1.1 in /usr/local/lib/python3.11/dist-packages (from anyio->httpx->gradio_client) (1.3.1)\n",
            "Requirement already satisfied: charset-normalizer<4,>=2 in /usr/local/lib/python3.11/dist-packages (from requests->huggingface-hub>=0.19.3->gradio_client) (3.4.1)\n",
            "Requirement already satisfied: urllib3<3,>=1.21.1 in /usr/local/lib/python3.11/dist-packages (from requests->huggingface-hub>=0.19.3->gradio_client) (2.3.0)\n"
          ]
        }
      ]
    },
    {
      "cell_type": "code",
      "source": [
        "!python main.py\n"
      ],
      "metadata": {
        "colab": {
          "base_uri": "https://localhost:8080/"
        },
        "id": "K6KxZbTW5QGY",
        "outputId": "8217fe95-7c9d-4361-adf3-d540106f67b9"
      },
      "execution_count": 3,
      "outputs": [
        {
          "output_type": "stream",
          "name": "stdout",
          "text": [
            "2025-01-26 16:54:41.642411: E external/local_xla/xla/stream_executor/cuda/cuda_dnn.cc:9261] Unable to register cuDNN factory: Attempting to register factory for plugin cuDNN when one has already been registered\n",
            "2025-01-26 16:54:41.642469: E external/local_xla/xla/stream_executor/cuda/cuda_fft.cc:607] Unable to register cuFFT factory: Attempting to register factory for plugin cuFFT when one has already been registered\n",
            "2025-01-26 16:54:41.644594: E external/local_xla/xla/stream_executor/cuda/cuda_blas.cc:1515] Unable to register cuBLAS factory: Attempting to register factory for plugin cuBLAS when one has already been registered\n",
            "2025-01-26 16:54:41.655878: I tensorflow/core/platform/cpu_feature_guard.cc:182] This TensorFlow binary is optimized to use available CPU instructions in performance-critical operations.\n",
            "To enable the following instructions: AVX2 FMA, in other operations, rebuild TensorFlow with the appropriate compiler flags.\n",
            "2025-01-26 16:54:43.198878: W tensorflow/compiler/tf2tensorrt/utils/py_utils.cc:38] TF-TRT Warning: Could not find TensorRT\n",
            "2025-01-26 16:54:44.602483: I external/local_xla/xla/stream_executor/cuda/cuda_executor.cc:901] successful NUMA node read from SysFS had negative value (-1), but there must be at least one NUMA node, so returning NUMA node zero. See more at https://github.com/torvalds/linux/blob/v6.0/Documentation/ABI/testing/sysfs-bus-pci#L344-L355\n",
            "2025-01-26 16:54:44.655904: I external/local_xla/xla/stream_executor/cuda/cuda_executor.cc:901] successful NUMA node read from SysFS had negative value (-1), but there must be at least one NUMA node, so returning NUMA node zero. See more at https://github.com/torvalds/linux/blob/v6.0/Documentation/ABI/testing/sysfs-bus-pci#L344-L355\n",
            "2025-01-26 16:54:44.656187: I external/local_xla/xla/stream_executor/cuda/cuda_executor.cc:901] successful NUMA node read from SysFS had negative value (-1), but there must be at least one NUMA node, so returning NUMA node zero. See more at https://github.com/torvalds/linux/blob/v6.0/Documentation/ABI/testing/sysfs-bus-pci#L344-L355\n",
            "2025-01-26 16:54:44,705 - absl - INFO - Using /tmp/tfhub_modules to cache modules.\n",
            "2025-01-26 16:54:45.019587: I external/local_xla/xla/stream_executor/cuda/cuda_executor.cc:901] successful NUMA node read from SysFS had negative value (-1), but there must be at least one NUMA node, so returning NUMA node zero. See more at https://github.com/torvalds/linux/blob/v6.0/Documentation/ABI/testing/sysfs-bus-pci#L344-L355\n",
            "2025-01-26 16:54:45.019940: I external/local_xla/xla/stream_executor/cuda/cuda_executor.cc:901] successful NUMA node read from SysFS had negative value (-1), but there must be at least one NUMA node, so returning NUMA node zero. See more at https://github.com/torvalds/linux/blob/v6.0/Documentation/ABI/testing/sysfs-bus-pci#L344-L355\n",
            "2025-01-26 16:54:45.020137: I external/local_xla/xla/stream_executor/cuda/cuda_executor.cc:901] successful NUMA node read from SysFS had negative value (-1), but there must be at least one NUMA node, so returning NUMA node zero. See more at https://github.com/torvalds/linux/blob/v6.0/Documentation/ABI/testing/sysfs-bus-pci#L344-L355\n",
            "2025-01-26 16:54:45.199289: I external/local_xla/xla/stream_executor/cuda/cuda_executor.cc:901] successful NUMA node read from SysFS had negative value (-1), but there must be at least one NUMA node, so returning NUMA node zero. See more at https://github.com/torvalds/linux/blob/v6.0/Documentation/ABI/testing/sysfs-bus-pci#L344-L355\n",
            "2025-01-26 16:54:45.199617: I external/local_xla/xla/stream_executor/cuda/cuda_executor.cc:901] successful NUMA node read from SysFS had negative value (-1), but there must be at least one NUMA node, so returning NUMA node zero. See more at https://github.com/torvalds/linux/blob/v6.0/Documentation/ABI/testing/sysfs-bus-pci#L344-L355\n",
            "2025-01-26 16:54:45.199847: I external/local_xla/xla/stream_executor/cuda/cuda_executor.cc:901] successful NUMA node read from SysFS had negative value (-1), but there must be at least one NUMA node, so returning NUMA node zero. See more at https://github.com/torvalds/linux/blob/v6.0/Documentation/ABI/testing/sysfs-bus-pci#L344-L355\n",
            "2025-01-26 16:54:45.199992: I tensorflow/core/common_runtime/gpu/gpu_device.cc:1929] Created device /job:localhost/replica:0/task:0/device:GPU:0 with 13949 MB memory:  -> device: 0, name: Tesla T4, pci bus id: 0000:00:04.0, compute capability: 7.5\n",
            "2025-01-26 16:54:46,655 - absl - INFO - Fingerprint not found. Saved model loading will continue.\n",
            "2025-01-26 16:54:46,655 - absl - INFO - path_and_singleprint metric could not be logged. Saved model loading will continue.\n",
            "2025-01-26 16:54:47,128 - aiogram - INFO - Bot: @style_GAN_ask [@ImageGANBot]\n",
            "2025-01-26 16:54:47,388 - aiogram.dispatcher.dispatcher - INFO - Start polling.\n",
            "2025-01-26 16:55:02,623 - root - INFO - User 153330435 chose variant: две фото (проект 24)\n",
            "2025-01-26 16:55:07,363 - app2024 - INFO - Начало обработки контентного фото для пользователя 153330435\n",
            "2025-01-26 16:55:07,515 - app2024 - INFO - Скачивание файла: photos/file_352.jpg -> /content/DLS24/data/uploads/153330435/content_86d7b803-8e23-4e45-96a3-9cb91a60c2eb.jpg\n",
            "2025-01-26 16:55:07,812 - app2024 - INFO - Контентное изображение сохранено: /content/DLS24/data/uploads/153330435/content_86d7b803-8e23-4e45-96a3-9cb91a60c2eb.jpg\n",
            "2025-01-26 16:55:13,653 - app2024 - INFO - Стилевое изображение получено: /content/DLS24/data/uploads/153330435/style_dc2d5576-0255-4801-9e1c-4c7e737e195f.jpg\n",
            "2025-01-26 16:55:14,607 - nst - INFO - NST инициализирован [ОС: Linux, Colab: True]\n",
            "2025-01-26 16:55:14.683145: I external/local_xla/xla/stream_executor/cuda/cuda_dnn.cc:454] Loaded cuDNN version 8906\n",
            "2025-01-26 16:55:16.397989: I tensorflow/core/util/cuda_solvers.cc:179] Creating GpuSolver handles for stream 0xa27e650\n",
            "2025-01-26 16:55:19.575575: I external/local_xla/xla/service/service.cc:168] XLA service 0x7e6f45a02410 initialized for platform CUDA (this does not guarantee that XLA will be used). Devices:\n",
            "2025-01-26 16:55:19.575615: I external/local_xla/xla/service/service.cc:176]   StreamExecutor device (0): Tesla T4, Compute Capability 7.5\n",
            "2025-01-26 16:55:19.581498: I tensorflow/compiler/mlir/tensorflow/utils/dump_mlir_util.cc:269] disabling MLIR crash reproducer, set env var `MLIR_CRASH_REPRODUCER_DIRECTORY` to enable.\n",
            "WARNING: All log messages before absl::InitializeLog() is called are written to STDERR\n",
            "I0000 00:00:1737910519.722072   33296 device_compiler.h:186] Compiled cluster using XLA!  This line is logged at most once for the lifetime of the process.\n",
            "2025-01-26 16:55:19,726 - nst - INFO - Iter 0: Loss=35.85\n",
            "2025-01-26 16:55:33,910 - nst - INFO - Iter 50: Loss=32.92\n",
            "2025-01-26 16:55:48,244 - nst - INFO - Iter 100: Loss=30.78\n",
            "2025-01-26 16:56:02,596 - nst - INFO - Iter 150: Loss=28.97\n",
            "2025-01-26 16:56:17,077 - nst - INFO - Iter 200: Loss=27.23\n",
            "2025-01-26 16:56:31,595 - nst - INFO - Iter 250: Loss=25.89\n",
            "2025-01-26 16:56:46,312 - nst - INFO - Iter 300: Loss=24.87\n",
            "2025-01-26 16:57:01,075 - nst - INFO - Iter 350: Loss=24.04\n",
            "2025-01-26 16:57:15,940 - nst - INFO - Iter 400: Loss=23.34\n",
            "2025-01-26 16:57:30,849 - nst - INFO - Iter 450: Loss=22.72\n",
            "2025-01-26 16:57:45,580 - nst - INFO - Очистка памяти Colab выполнена\n",
            "2025-01-26 16:57:49,573 - nst - INFO - Очистка памяти Colab выполнена\n",
            "2025-01-26 16:57:49,574 - nst - INFO - NST завершил работу\n",
            "2025-01-26 16:57:56,527 - root - INFO - User 153330435 chose variant: одно фото (проект 23)\n",
            "Отправка photos...153330435\n",
            "File path: photos/file_352.jpg\n",
            "Photo URL: https://api.telegram.org/file/bot6833480462:AAFNbb2pan_yesaPU1JxU9SE3fjCLcPPPQU/photos/file_352.jpg\n",
            "Photo filename: /content/DLS24/data/uploads/153330435/6d78ebf1-ab84-4c79-86a8-ca4c283196e5.jpg\n",
            "Фото успешно сохранено: /content/DLS24/data/uploads/153330435/6d78ebf1-ab84-4c79-86a8-ca4c283196e5.jpg\n",
            "Encoded image: /9j/4AAQSk...\n",
            "Отправлены промт фото\n",
            "Отправлены стилизованные фото id: 153330435\n",
            "2025-01-26 16:58:19,980 - root - INFO - User 153330435 chose variant: одно фото (проект 23)\n",
            "Отправка photos...153330435\n",
            "File path: photos/file_352.jpg\n",
            "Photo URL: https://api.telegram.org/file/bot6833480462:AAFNbb2pan_yesaPU1JxU9SE3fjCLcPPPQU/photos/file_352.jpg\n",
            "Photo filename: /content/DLS24/data/uploads/153330435/8afd8e41-cad2-48a3-9fc2-dc7182f61e44.jpg\n",
            "Фото успешно сохранено: /content/DLS24/data/uploads/153330435/8afd8e41-cad2-48a3-9fc2-dc7182f61e44.jpg\n",
            "Encoded image: /9j/4AAQSk...\n",
            "Loaded as API: https://c91cbbae5da9617c02.gradio.live/ ✔\n",
            "2025-01-26 16:58:32,956 - httpx - INFO - HTTP Request: GET https://c91cbbae5da9617c02.gradio.live/config \"HTTP/1.1 200 OK\"\n",
            "2025-01-26 16:58:33,345 - httpx - INFO - HTTP Request: GET https://c91cbbae5da9617c02.gradio.live/info?serialize=False \"HTTP/1.1 200 OK\"\n",
            "Сформирован URL: https://c91cbbae5da9617c02.gradio.live/file=D:/FooocusControl/Fooocus/outputs/gradio/a25e3b1d81e6150d8609ebe66cd29fcee0e38b0c/image.png\n",
            "Изображение отправлено пользователю 153330435\n",
            "Локальный файл отсутствует, перемещение пропущено\n",
            "2025-01-26 17:11:17,820 - root - INFO - User 153330435 chose variant: одно фото (проект 23)\n",
            "Отправка photos...153330435\n",
            "File path: photos/file_352.jpg\n",
            "Photo URL: https://api.telegram.org/file/bot6833480462:AAFNbb2pan_yesaPU1JxU9SE3fjCLcPPPQU/photos/file_352.jpg\n",
            "Photo filename: /content/DLS24/data/uploads/153330435/560f22c8-e3ec-4c82-9b88-c98dabcd58f4.jpg\n",
            "Фото успешно сохранено: /content/DLS24/data/uploads/153330435/560f22c8-e3ec-4c82-9b88-c98dabcd58f4.jpg\n",
            "Encoded image: /9j/4AAQSk...\n",
            "Отправлены промт фото\n",
            "Отправлены стилизованные фото id: 153330435\n",
            "2025-01-26 17:17:42,874 - aiogram.dispatcher.dispatcher - INFO - Stop polling...\n",
            "2025-01-26 17:17:42,875 - aiogram - WARNING - Goodbye!\n",
            "Exception ignored in: <module 'threading' from '/usr/lib/python3.11/threading.py'>\n",
            "Traceback (most recent call last):\n",
            "  File \"/usr/lib/python3.11/threading.py\", line 1560, in _shutdown\n",
            "    atexit_call()\n",
            "  File \"/usr/lib/python3.11/concurrent/futures/thread.py\", line 31, in _python_exit\n",
            "    t.join()\n",
            "  File \"/usr/lib/python3.11/threading.py\", line 1119, in join\n",
            "    self._wait_for_tstate_lock()\n",
            "  File \"/usr/lib/python3.11/threading.py\", line 1139, in _wait_for_tstate_lock\n",
            "    if lock.acquire(block, timeout):\n",
            "       ^^^^^^^^^^^^^^^^^^^^^^^^^^^^\n",
            "KeyboardInterrupt: \n",
            "^C\n"
          ]
        }
      ]
    }
  ]
}